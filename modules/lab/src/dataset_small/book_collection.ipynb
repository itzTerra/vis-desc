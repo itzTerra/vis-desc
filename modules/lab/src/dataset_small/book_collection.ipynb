{
 "cells": [
  {
   "cell_type": "markdown",
   "metadata": {},
   "source": [
    "# Gutenberg\n",
    "\n",
    "https://huggingface.co/datasets/sedthh/gutenberg_english"
   ]
  },
  {
   "cell_type": "code",
   "execution_count": 1,
   "metadata": {},
   "outputs": [
    {
     "name": "stderr",
     "output_type": "stream",
     "text": [
      "/home/terra/Projects/vis-desc/modules/lab/.venv/lib/python3.12/site-packages/tqdm/auto.py:21: TqdmWarning: IProgress not found. Please update jupyter and ipywidgets. See https://ipywidgets.readthedocs.io/en/stable/user_install.html\n",
      "  from .autonotebook import tqdm as notebook_tqdm\n"
     ]
    },
    {
     "name": "stdout",
     "output_type": "stream",
     "text": [
      "Book count after filter: 8867\n"
     ]
    }
   ],
   "source": [
    "from datasets import load_dataset\n",
    "import json\n",
    "import re\n",
    "\n",
    "# https://www.loc.gov/aba/cataloging/classification/lcco/lcco_p.pdf\n",
    "LOCC_WHITELIST = [\n",
    "    \"PN\",  # Literature (General)\n",
    "    \"PQ\",  # French, Italian, Spanish, Portuguese literature\n",
    "    \"PR\",  # English literature\n",
    "    \"PS\",  # American literature\n",
    "    \"PT\",  # Other european literature\n",
    "    \"PZ\",  # Fiction and juvenile belles lettres\n",
    "]\n",
    "BLACKLIST = [\n",
    "    \"poem\",\n",
    "    \"opera\",\n",
    "    \"music\",\n",
    "    \"drama\",\n",
    "    \"play\",\n",
    "    \"theater\",\n",
    "    \"theatre\",\n",
    "    \"song\",\n",
    "    \"religious\",\n",
    "    \"poetry\",\n",
    "    \"lyric\",\n",
    "    \"biograph\",\n",
    "    \"memoir\",\n",
    "    \"journal\",\n",
    "    \"political\",\n",
    "    \"christianity\",\n",
    "    \"diary\",\n",
    "    \"essay\",\n",
    "    \"criticism\",\n",
    "    \"review\",\n",
    "    \"commentary\",\n",
    "    \"philosoph\",\n",
    "    \"religion\",\n",
    "    \"spiritual\",\n",
    "    \"self-help\",\n",
    "    \"psycholog\",\n",
    "    \"sociolog\",\n",
    "    \"politics\",\n",
    "    \"economic\",\n",
    "    \"business\",\n",
    "    \"finance\",\n",
    "    \"law\",\n",
    "    \"mathematic\",\n",
    "    \"didactic\",\n",
    "    \"conflict of generation\",\n",
    "    \"love stor\",\n",
    "    \"domestic\",\n",
    "    \"marriage\",\n",
    "    \"kentucky\",\n",
    "    \"tennessee\",\n",
    "    \"virginia\",\n",
    "    \"civil war\",\n",
    "    \"native american\",\n",
    "    \"bildungsroman\",\n",
    "    \"indiana\",\n",
    "    \"illinois\",\n",
    "    \"social life and customs\",\n",
    "    \"correspondence\",\n",
    "    \"slavery\",\n",
    "    \"humor\",\n",
    "]\n",
    "year_re = re.compile(r\"\\d{4}\")\n",
    "\n",
    "ds = load_dataset(\"sedthh/gutenberg_english\")\n",
    "\n",
    "\n",
    "def metadata_filter(row):\n",
    "    \"\"\"Requirements:\n",
    "    - locc must contain at least one whitelisted term\n",
    "    - subjects and bookshelves must not contain any blacklisted terms\n",
    "    - issued year >= 1900\n",
    "    - authors cannot contain a year < 1850\n",
    "    - length >= 10000\n",
    "    \"\"\"\n",
    "    meta = json.loads(row[\"METADATA\"])\n",
    "    return (\n",
    "        any(term in meta[\"locc\"] for term in LOCC_WHITELIST)\n",
    "        and not any(term in meta[\"subjects\"].lower() for term in BLACKLIST)\n",
    "        and not any(term in meta[\"bookshelves\"].lower() for term in BLACKLIST)\n",
    "        and all(int(year) >= 1900 for year in year_re.findall(meta[\"issued\"]))\n",
    "        and all(int(year) >= 1850 for year in year_re.findall(meta[\"authors\"]))\n",
    "        and len(row[\"TEXT\"]) >= 50000\n",
    "    )\n",
    "\n",
    "\n",
    "ds = ds.filter(metadata_filter)\n",
    "book_count = len(ds[\"train\"])\n",
    "print(f\"Book count after filter: {book_count}\")"
   ]
  },
  {
   "cell_type": "code",
   "execution_count": 6,
   "metadata": {},
   "outputs": [
    {
     "data": {
      "text/plain": [
       "'{\"language\": \"en\", \"text_id\": 16, \"title\": \"Peter Pan\", \"issued\": \"2008-06-25 00:00:00\", \"authors\": \"Barrie, J. M. (James Matthew), 1860-1937\", \"subjects\": \"Fantasy literature; Peter Pan (Fictitious character) -- Fiction; Never-Never Land (Imaginary place) -- Fiction; Pirates -- Fiction; Fairies -- Fiction\", \"locc\": \"PR; PZ\", \"bookshelves\": \"Children\\'s Literature; Movie Books\"}'"
      ]
     },
     "execution_count": 6,
     "metadata": {},
     "output_type": "execute_result"
    }
   ],
   "source": [
    "ds[\"train\"][0][\"METADATA\"]"
   ]
  },
  {
   "cell_type": "code",
   "execution_count": 4,
   "metadata": {},
   "outputs": [
    {
     "name": "stdout",
     "output_type": "stream",
     "text": [
      "* Running on local URL:  http://127.0.0.1:7860\n",
      "* To create a public link, set `share=True` in `launch()`.\n"
     ]
    },
    {
     "data": {
      "text/html": [
       "<div><iframe src=\"http://127.0.0.1:7860/\" width=\"100%\" height=\"500\" allow=\"autoplay; camera; microphone; clipboard-read; clipboard-write;\" frameborder=\"0\" allowfullscreen></iframe></div>"
      ],
      "text/plain": [
       "<IPython.core.display.HTML object>"
      ]
     },
     "metadata": {},
     "output_type": "display_data"
    },
    {
     "name": "stdout",
     "output_type": "stream",
     "text": [
      "Opening in existing browser session.\n",
      "Opening in existing browser session.\n",
      "Opening in existing browser session.\n",
      "Opening in existing browser session.\n",
      "Opening in existing browser session.\n",
      "Opening in existing browser session.\n",
      "Opening in existing browser session.\n",
      "Opening in existing browser session.\n",
      "Opening in existing browser session.\n",
      "Opening in existing browser session.\n",
      "Opening in existing browser session.\n",
      "Opening in existing browser session.\n",
      "Opening in existing browser session.\n",
      "Opening in existing browser session.\n",
      "Opening in existing browser session.\n",
      "Keyboard interruption in main thread... closing server.\n"
     ]
    }
   ],
   "source": [
    "import sys\n",
    "from pathlib import Path\n",
    "\n",
    "sys.path.append(str(Path.cwd().parent))\n",
    "from utils import PROCESSED_BOOKS_PATH, BOOK_DIR\n",
    "from book_collection import BookCollector\n",
    "\n",
    "collector = BookCollector(ds, BOOK_DIR, PROCESSED_BOOKS_PATH)\n",
    "collector.launch_interface()"
   ]
  },
  {
   "cell_type": "code",
   "execution_count": 10,
   "metadata": {},
   "outputs": [
    {
     "name": "stdout",
     "output_type": "stream",
     "text": [
      "The Shadow Line: A Confession\n",
      "Anne of Green Gables\n",
      "Dream Days\n",
      "My Ántonia\n",
      "Three Elephant Power, and Other Stories\n",
      "Herland\n",
      "The Mucker\n",
      "O Pioneers!\n",
      "The Call of the Wild\n",
      "The Insidious Dr. Fu Manchu\n",
      "The Golden Road\n",
      "The Wisdom of Father Brown\n",
      "Dear Enemy\n",
      "Frivolous Cupid\n",
      "Penrod\n",
      "Moran of the Lady Letty\n",
      "Bunner Sisters\n",
      "The Return of Sherlock Holmes\n",
      "Anne of Avonlea\n",
      "Anne of the Island\n",
      "The Innocence of Father Brown\n",
      "The Burial of the Guns\n",
      "Jungle Tales of Tarzan\n",
      "Freckles\n"
     ]
    }
   ],
   "source": [
    "for book in (BOOK_DIR / \"meta\").glob(\"*.json\"):\n",
    "    with open(book, \"r\") as f:\n",
    "        meta = json.load(f)\n",
    "        if meta.get(\"genre\") == \"Fiction\":\n",
    "            print(meta.get(\"title\"))"
   ]
  }
 ],
 "metadata": {
  "kernelspec": {
   "display_name": "lab",
   "language": "python",
   "name": "python3"
  },
  "language_info": {
   "codemirror_mode": {
    "name": "ipython",
    "version": 3
   },
   "file_extension": ".py",
   "mimetype": "text/x-python",
   "name": "python",
   "nbconvert_exporter": "python",
   "pygments_lexer": "ipython3",
   "version": "3.12.3"
  }
 },
 "nbformat": 4,
 "nbformat_minor": 2
}
