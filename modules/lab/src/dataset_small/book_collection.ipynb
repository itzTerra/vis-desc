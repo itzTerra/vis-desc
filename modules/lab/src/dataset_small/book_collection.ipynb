{
 "cells": [
  {
   "cell_type": "markdown",
   "metadata": {},
   "source": [
    "# Gutenberg\n",
    "\n",
    "https://huggingface.co/datasets/sedthh/gutenberg_english"
   ]
  },
  {
   "cell_type": "code",
   "execution_count": 3,
   "metadata": {},
   "outputs": [
    {
     "name": "stderr",
     "output_type": "stream",
     "text": [
      "Filter: 100%|██████████| 48284/48284 [01:18<00:00, 618.13 examples/s]\n"
     ]
    },
    {
     "name": "stdout",
     "output_type": "stream",
     "text": [
      "Book count after filter: 8777\n"
     ]
    }
   ],
   "source": [
    "from datasets import load_dataset\n",
    "import json\n",
    "import re\n",
    "\n",
    "# https://www.loc.gov/aba/cataloging/classification/lcco/lcco_p.pdf\n",
    "LOCC_WHITELIST = [\n",
    "    \"PN\",  # Literature (General)\n",
    "    \"PQ\",  # French, Italian, Spanish, Portuguese literature\n",
    "    \"PR\",  # English literature\n",
    "    \"PS\",  # American literature\n",
    "    \"PT\",  # Other european literature\n",
    "    \"PZ\",  # Fiction and juvenile belles lettres\n",
    "]\n",
    "BLACKLIST = [\n",
    "    \"poem\",\n",
    "    \"opera\",\n",
    "    \"music\",\n",
    "    \"drama\",\n",
    "    \"play\",\n",
    "    \"theater\",\n",
    "    \"theatre\",\n",
    "    \"song\",\n",
    "    \"religious\",\n",
    "    \"poetry\",\n",
    "    \"lyric\",\n",
    "    \"biograph\",\n",
    "    \"memoir\",\n",
    "    \"journal\",\n",
    "    \"political\",\n",
    "    \"christianity\",\n",
    "    \"diary\",\n",
    "    \"essay\",\n",
    "    \"criticism\",\n",
    "    \"review\",\n",
    "    \"commentary\",\n",
    "    \"philosoph\",\n",
    "    \"religion\",\n",
    "    \"spiritual\",\n",
    "    \"self-help\",\n",
    "    \"psycholog\",\n",
    "    \"sociolog\",\n",
    "    \"politics\",\n",
    "    \"economic\",\n",
    "    \"business\",\n",
    "    \"finance\",\n",
    "    \"law\",\n",
    "    \"mathematic\",\n",
    "    \"didactic\",\n",
    "    \"conflict of generation\",\n",
    "    \"love stor\",\n",
    "    \"domestic\",\n",
    "    \"marriage\",\n",
    "    \"kentucky\",\n",
    "    \"tennessee\",\n",
    "    \"virginia\",\n",
    "    \"civil war\",\n",
    "    \"native american\",\n",
    "    \"bildungsroman\",\n",
    "    \"indiana\",\n",
    "    \"illinois\",\n",
    "    \"social life and customs\",\n",
    "    \"correspondence\",\n",
    "    \"slavery\",\n",
    "    \"humor\",\n",
    "    \"christmas\",\n",
    "]\n",
    "year_re = re.compile(r\"\\d{4}\")\n",
    "\n",
    "ds = load_dataset(\"sedthh/gutenberg_english\")\n",
    "\n",
    "\n",
    "def metadata_filter(row):\n",
    "    \"\"\"Requirements:\n",
    "    - locc must contain at least one whitelisted term\n",
    "    - subjects and bookshelves must not contain any blacklisted terms\n",
    "    - issued year >= 1900\n",
    "    - authors cannot contain a year < 1850\n",
    "    - length >= 10000\n",
    "    \"\"\"\n",
    "    meta = json.loads(row[\"METADATA\"])\n",
    "    return (\n",
    "        any(term in meta[\"locc\"] for term in LOCC_WHITELIST)\n",
    "        and not any(term in meta[\"subjects\"].lower() for term in BLACKLIST)\n",
    "        and not any(term in meta[\"bookshelves\"].lower() for term in BLACKLIST)\n",
    "        and all(int(year) >= 1900 for year in year_re.findall(meta[\"issued\"]))\n",
    "        and all(int(year) >= 1850 for year in year_re.findall(meta[\"authors\"]))\n",
    "        and len(row[\"TEXT\"]) >= 50000\n",
    "    )\n",
    "\n",
    "\n",
    "ds = ds.filter(metadata_filter)\n",
    "book_count = len(ds[\"train\"])\n",
    "print(f\"Book count after filter: {book_count}\")"
   ]
  },
  {
   "cell_type": "code",
   "execution_count": 7,
   "metadata": {},
   "outputs": [
    {
     "name": "stdout",
     "output_type": "stream",
     "text": [
      "* Running on local URL:  http://127.0.0.1:7860\n",
      "* To create a public link, set `share=True` in `launch()`.\n"
     ]
    },
    {
     "data": {
      "text/html": [
       "<div><iframe src=\"http://127.0.0.1:7860/\" width=\"100%\" height=\"500\" allow=\"autoplay; camera; microphone; clipboard-read; clipboard-write;\" frameborder=\"0\" allowfullscreen></iframe></div>"
      ],
      "text/plain": [
       "<IPython.core.display.HTML object>"
      ]
     },
     "metadata": {},
     "output_type": "display_data"
    },
    {
     "name": "stdout",
     "output_type": "stream",
     "text": [
      "Opening in existing browser session.\n",
      "Opening in existing browser session.\n",
      "Opening in existing browser session.\n",
      "Opening in existing browser session.\n",
      "Opening in existing browser session.\n",
      "Keyboard interruption in main thread... closing server.\n"
     ]
    }
   ],
   "source": [
    "import sys\n",
    "from pathlib import Path\n",
    "\n",
    "sys.path.append(str(Path.cwd().parent))\n",
    "from utils import PROCESSED_BOOKS_PATH, BOOK_DIR\n",
    "from book_collection import BookCollector\n",
    "\n",
    "collector = BookCollector(ds, BOOK_DIR, PROCESSED_BOOKS_PATH)\n",
    "collector.launch_interface()"
   ]
  },
  {
   "cell_type": "code",
   "execution_count": 4,
   "metadata": {},
   "outputs": [
    {
     "name": "stdout",
     "output_type": "stream",
     "text": [
      "EARLIEST YEAR: 1889\n",
      "  - The Witch of Prague: A Fantastic Tale (the-witch-of-prague-a-fantastic-tale.json)\n",
      "LATEST YEAR: 2005\n",
      "  - The Revolutions of Time (the-revolutions-of-time.json)\n"
     ]
    }
   ],
   "source": [
    "import sys\n",
    "from pathlib import Path\n",
    "\n",
    "sys.path.append(str(Path.cwd().parent))\n",
    "from utils import BOOK_DIR\n",
    "\n",
    "entries = []\n",
    "\n",
    "for book in (BOOK_DIR / \"meta\").glob(\"*.json\"):\n",
    "    with open(book, \"r\") as f:\n",
    "        meta = json.load(f)\n",
    "    y = meta.get(\"year\")\n",
    "    if isinstance(y, int):\n",
    "        entries.append((y, meta.get(\"title\"), book.name))\n",
    "\n",
    "if not entries:\n",
    "    print(\"No entries with year\")\n",
    "else:\n",
    "    entries.sort()\n",
    "    earliest_year = entries[0][0]\n",
    "    latest_year = entries[-1][0]\n",
    "    earliest = [e for e in entries if e[0] == earliest_year]\n",
    "    latest = [e for e in entries if e[0] == latest_year]\n",
    "    print(\"EARLIEST YEAR:\", earliest_year)\n",
    "    for y, title, filename in earliest:\n",
    "        print(\"  -\", title, f\"({filename})\")\n",
    "    print(\"LATEST YEAR:\", latest_year)\n",
    "    for y, title, filename in latest:\n",
    "        print(\"  -\", title, f\"({filename})\")"
   ]
  }
 ],
 "metadata": {
  "kernelspec": {
   "display_name": ".venv",
   "language": "python",
   "name": "python3"
  },
  "language_info": {
   "codemirror_mode": {
    "name": "ipython",
    "version": 3
   },
   "file_extension": ".py",
   "mimetype": "text/x-python",
   "name": "python",
   "nbconvert_exporter": "python",
   "pygments_lexer": "ipython3",
   "version": "3.12.3"
  }
 },
 "nbformat": 4,
 "nbformat_minor": 2
}
