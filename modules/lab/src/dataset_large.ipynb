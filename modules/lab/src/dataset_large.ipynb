{
 "cells": [
  {
   "cell_type": "code",
   "execution_count": null,
   "id": "23bae0e2",
   "metadata": {},
   "outputs": [
    {
     "name": "stderr",
     "output_type": "stream",
     "text": [
      "/home/terra/Projects/vis-desc/modules/lab/.venv/lib/python3.12/site-packages/tqdm/auto.py:21: TqdmWarning: IProgress not found. Please update jupyter and ipywidgets. See https://ipywidgets.readthedocs.io/en/stable/user_install.html\n",
      "  from .autonotebook import tqdm as notebook_tqdm\n",
      "2025-10-22 17:28:18.190436: E external/local_xla/xla/stream_executor/cuda/cuda_fft.cc:477] Unable to register cuFFT factory: Attempting to register factory for plugin cuFFT when one has already been registered\n",
      "WARNING: All log messages before absl::InitializeLog() is called are written to STDERR\n",
      "E0000 00:00:1761146898.209465  310564 cuda_dnn.cc:8310] Unable to register cuDNN factory: Attempting to register factory for plugin cuDNN when one has already been registered\n",
      "E0000 00:00:1761146898.214974  310564 cuda_blas.cc:1418] Unable to register cuBLAS factory: Attempting to register factory for plugin cuBLAS when one has already been registered\n",
      "2025-10-22 17:28:18.234849: I tensorflow/core/platform/cpu_feature_guard.cc:210] This TensorFlow binary is optimized to use available CPU instructions in performance-critical operations.\n",
      "To enable the following instructions: AVX2 FMA, in other operations, rebuild TensorFlow with the appropriate compiler flags.\n"
     ]
    },
    {
     "name": "stdout",
     "output_type": "stream",
     "text": [
      "using device cpu\n"
     ]
    }
   ],
   "source": [
    "from typing import Any, Iterable\n",
    "import numpy as np\n",
    "from numpy.typing import NDArray\n",
    "import pandas as pd\n",
    "from datasets import load_dataset\n",
    "import sys\n",
    "from pathlib import Path\n",
    "from tqdm import tqdm\n",
    "from text2features import FeatureExtractorPipeline, ExtCtx\n",
    "from text2features_paths import FEATURE_PIPELINE_RESOURCES\n",
    "\n",
    "sys.path.append(str(Path.cwd().parent))\n",
    "from book_segmenting import TextSegmenter\n",
    "from utils import DATA_DIR\n",
    "\n",
    "feature_extractor = FeatureExtractorPipeline(resources=FEATURE_PIPELINE_RESOURCES)\n",
    "\n",
    "SEGMENT_CHARS_MIN = 150\n",
    "SEGMENT_CHARS_MAX = 500\n",
    "segmenter = TextSegmenter(segment_size=(SEGMENT_CHARS_MIN, SEGMENT_CHARS_MAX))\n",
    "\n",
    "\n",
    "class Dataset:\n",
    "    MIN_TEXT_LENGTH = 60\n",
    "    MAX_TEXT_LENGTH = 500\n",
    "\n",
    "    def __init__(\n",
    "        self,\n",
    "        name: str,\n",
    "        src: Iterable[Any],\n",
    "        take: int,\n",
    "        skip: int = 0,\n",
    "        text_getter=None,\n",
    "        deduplicate=False,\n",
    "        segment=False,\n",
    "        check_length=True,\n",
    "    ):\n",
    "        self.name = name\n",
    "        self.src = iter(src)\n",
    "        self.take = take\n",
    "        self.skip = skip\n",
    "        self.texts: list[str] | None = None\n",
    "        self.contexts: list[ExtCtx] | None = None\n",
    "        self.features: list[NDArray[np.float32]] | None = None\n",
    "        self.text_getter = text_getter\n",
    "        self.deduplicate = deduplicate\n",
    "        self.segment = segment\n",
    "        self.check_length = check_length\n",
    "\n",
    "    def process(\n",
    "        self, deduplicate: bool | None = None, segment: bool | None = None\n",
    "    ) -> list[ExtCtx]:\n",
    "        if deduplicate is None:\n",
    "            deduplicate = self.deduplicate\n",
    "        if segment is None:\n",
    "            segment = self.segment\n",
    "\n",
    "        self.texts = []\n",
    "        self.contexts = []\n",
    "        self.features = []\n",
    "        if deduplicate:\n",
    "            seen = set()\n",
    "        taken = 0\n",
    "        to_skip = self.skip\n",
    "\n",
    "        with tqdm(total=self.take, desc=\"Processing texts\", unit=\"text\") as pbar:\n",
    "            while taken < self.take:\n",
    "                try:\n",
    "                    text = next(self.src)\n",
    "                except StopIteration:\n",
    "                    break\n",
    "                if to_skip > 0:\n",
    "                    to_skip -= 1\n",
    "                    continue\n",
    "\n",
    "                if self.text_getter is not None:\n",
    "                    text = self.text_getter(text)\n",
    "                if not text:\n",
    "                    continue\n",
    "\n",
    "                text = FeatureExtractorPipeline.preprocess(text)\n",
    "                if self.check_length and len(text.strip()) < Dataset.MIN_TEXT_LENGTH:\n",
    "                    continue\n",
    "\n",
    "                if segment:\n",
    "                    segments = [\n",
    "                        seg\n",
    "                        for seg in segmenter.segment_text(text)\n",
    "                        if seg\n",
    "                        and (\n",
    "                            not self.check_length\n",
    "                            or (seg_len := len(seg.strip())) >= Dataset.MIN_TEXT_LENGTH\n",
    "                            and seg_len <= Dataset.MAX_TEXT_LENGTH\n",
    "                        )\n",
    "                    ]\n",
    "                    if len(segments) == 0:\n",
    "                        continue\n",
    "                    text = segments[len(segments) // 2]\n",
    "                else:\n",
    "                    if self.check_length and len(text) > Dataset.MAX_TEXT_LENGTH:\n",
    "                        continue\n",
    "\n",
    "                if deduplicate:\n",
    "                    if text in seen:\n",
    "                        continue\n",
    "                    seen.add(text)\n",
    "                ctx = feature_extractor.get_ctx(text)\n",
    "                features = feature_extractor.extract(text, preprocess=False, ctx=ctx)\n",
    "                if deduplicate:\n",
    "                    feat_tuple = tuple(features.tolist())\n",
    "                    if feat_tuple in seen:\n",
    "                        continue\n",
    "                    seen.add(feat_tuple)\n",
    "                self.texts.append(text)\n",
    "                self.contexts.append(ctx)\n",
    "                self.features.append(features)\n",
    "                taken += 1\n",
    "                pbar.update(1)\n",
    "\n",
    "        return self.contexts\n",
    "\n",
    "    def __iter__(self):\n",
    "        if self.contexts is None:\n",
    "            raise ValueError(\"Dataset not processed yet. Call process() first.\")\n",
    "        return iter(self.contexts)\n",
    "\n",
    "    def __len__(self):\n",
    "        if self.contexts is None:\n",
    "            raise ValueError(\"Dataset not processed yet. Call process() first.\")\n",
    "        return len(self.contexts)\n",
    "\n",
    "    def save_as_parquet(self, labels: list[Any] | None = None):\n",
    "        if self.texts is None or self.features is None:\n",
    "            raise ValueError(\"Dataset not processed yet. Call process() first.\")\n",
    "        df = pd.DataFrame(\n",
    "            {\"text\": self.texts, \"features\": [feat.tolist() for feat in self.features]}\n",
    "        )\n",
    "        if labels is not None:\n",
    "            if len(labels) != len(self.texts):\n",
    "                raise ValueError(\"Labels length does not match texts length.\")\n",
    "            df[\"label\"] = labels\n",
    "        df.to_parquet(\n",
    "            DATA_DIR / \"datasets\" / \"large\" / f\"{self.name}.parquet\", index=False\n",
    "        )"
   ]
  },
  {
   "cell_type": "code",
   "execution_count": 3,
   "id": "a7a610ec",
   "metadata": {},
   "outputs": [],
   "source": [
    "ds_high_flickr = load_dataset(\n",
    "    \"CaptionEmporium/flickr-megalith-10m-internvl2-multi-caption\",\n",
    "    split=\"train\",\n",
    "    streaming=True,\n",
    ")\n",
    "ds_flickr30k = load_dataset(\"embedding-data/flickr30k_captions_quintets\", split=\"train\")\n",
    "ds_coco = load_dataset(\"sentence-transformers/coco-captions\", split=\"train\")\n",
    "ds_sbu = load_dataset(\"vicenteor/sbu_captions\", split=\"train\", trust_remote_code=True)\n",
    "with open(DATA_DIR / \"datasets\" / \"large\" / \"movie_summaries.txt\") as f:\n",
    "    ds_movie_summaries = [line.strip() for line in f.readlines()]\n",
    "ds_book_summaries = load_dataset(\"textminr/cmu-book-summaries\", split=\"train\")\n",
    "with open(DATA_DIR / \"datasets\" / \"large\" / \"book_dialogs.txt\") as f:\n",
    "    ds_book_dialogs = [line.strip() for line in f.read().split(\"\\n\\n\")]\n",
    "ds_wiki = load_dataset(\"Salesforce/wikitext\", \"wikitext-2-raw-v1\", split=\"train\")\n",
    "ds_news = load_dataset(\"EdinburghNLP/xsum\", split=\"validation\")\n",
    "ds_hotels = load_dataset(\"argilla/tripadvisor-hotel-reviews\", split=\"train\")\n",
    "ds_yelp = load_dataset(\"Yelp/yelp_review_full\", split=\"test\")\n",
    "ds_arxiv = load_dataset(\n",
    "    \"armanc/scientific_papers\",\n",
    "    \"arxiv\",\n",
    "    split=\"validation\",\n",
    "    trust_remote_code=True,\n",
    "    streaming=True,\n",
    ")\n",
    "AMAZON_CATEGORIES = [\n",
    "    \"Cell_Phones_and_Accessories\",\n",
    "    \"Beauty_and_Personal_Care\",\n",
    "    \"Electronics\",\n",
    "    \"Grocery_and_Gourmet_Food\",\n",
    "    \"CDs_and_Vinyl\",\n",
    "    \"Musical_Instruments\",\n",
    "    \"Magazine_Subscriptions\",\n",
    "    \"Industrial_and_Scientific\",\n",
    "    \"Software\",\n",
    "]\n",
    "ds_amazon_reviews = []\n",
    "N_TOTAL = 15000\n",
    "for category in AMAZON_CATEGORIES:\n",
    "    ds = iter(\n",
    "        load_dataset(\n",
    "            \"McAuley-Lab/Amazon-Reviews-2023\",\n",
    "            f\"raw_review_{category}\",\n",
    "            split=\"full\",\n",
    "            trust_remote_code=True,\n",
    "            streaming=True,\n",
    "        )\n",
    "    )\n",
    "    for i in range(N_TOTAL // len(AMAZON_CATEGORIES)):\n",
    "        ds_amazon_reviews.append(next(ds))\n",
    "while len(ds_amazon_reviews) < N_TOTAL:\n",
    "    ds_amazon_reviews.append(next(ds))"
   ]
  },
  {
   "cell_type": "code",
   "execution_count": 4,
   "id": "bc1c7459",
   "metadata": {},
   "outputs": [],
   "source": [
    "datasets = [\n",
    "    Dataset(\n",
    "        \"artif_5\",\n",
    "        ds_high_flickr,\n",
    "        skip=2 * 1500,\n",
    "        take=15000,\n",
    "        text_getter=lambda x: x[\"caption_internlm2\"],\n",
    "    ),\n",
    "    Dataset(\n",
    "        \"artif_4\",\n",
    "        ds_high_flickr,\n",
    "        skip=2 * 1500,\n",
    "        take=15000,\n",
    "        text_getter=lambda x: x[\"caption_internlm2_short\"],\n",
    "    ),\n",
    "    Dataset(\n",
    "        \"flickr30k\",\n",
    "        ds_flickr30k,\n",
    "        skip=2 * 1500,\n",
    "        take=15000,\n",
    "        text_getter=lambda x: x[\"set\"][0],\n",
    "    ),\n",
    "    Dataset(\n",
    "        \"coco\", ds_coco, skip=2 * 500, take=5000, text_getter=lambda x: x[\"caption1\"]\n",
    "    ),\n",
    "    Dataset(\"sbu\", ds_sbu, skip=2 * 500, take=5000, text_getter=lambda x: x[\"caption\"]),\n",
    "    Dataset(\n",
    "        \"movie_summaries\", ds_movie_summaries, skip=2 * 500, take=5000, segment=True\n",
    "    ),\n",
    "    Dataset(\n",
    "        \"book_summaries\",\n",
    "        ds_book_summaries,\n",
    "        skip=2 * 500,\n",
    "        take=5000,\n",
    "        text_getter=lambda x: x[\"summary\"],\n",
    "        segment=True,\n",
    "    ),\n",
    "    Dataset(\"book_dialogs\", ds_book_dialogs, skip=2 * 500, take=5000),\n",
    "    Dataset(\n",
    "        \"wiki\",\n",
    "        ds_wiki,\n",
    "        skip=2 * 1000,\n",
    "        take=10000,\n",
    "        text_getter=lambda x: x[\"text\"].replace(\" @-@ \", \"-\").replace(\" @,@ \", \",\"),\n",
    "        segment=True,\n",
    "    ),\n",
    "    Dataset(\n",
    "        \"news\",\n",
    "        ds_news,\n",
    "        skip=2 * 500,\n",
    "        take=5000,\n",
    "        text_getter=lambda x: x[\"document\"],\n",
    "        segment=True,\n",
    "    ),\n",
    "    Dataset(\n",
    "        \"hotels\", ds_hotels, skip=2 * 200, take=2000, text_getter=lambda x: x[\"text\"]\n",
    "    ),\n",
    "    Dataset(\"yelp\", ds_yelp, skip=2 * 300, take=3000, text_getter=lambda x: x[\"text\"]),\n",
    "    Dataset(\n",
    "        \"arxiv\",\n",
    "        ds_arxiv,\n",
    "        skip=2 * 500,\n",
    "        take=5000,\n",
    "        text_getter=lambda x: x[\"abstract\"],\n",
    "        segment=True,\n",
    "    ),\n",
    "    Dataset(\n",
    "        \"amazon_reviews\",\n",
    "        ds_amazon_reviews,\n",
    "        skip=2 * 500,\n",
    "        take=5000,\n",
    "        text_getter=lambda x: x[\"text\"],\n",
    "    ),\n",
    "]"
   ]
  },
  {
   "cell_type": "code",
   "execution_count": null,
   "id": "f5cd736c",
   "metadata": {},
   "outputs": [
    {
     "name": "stdout",
     "output_type": "stream",
     "text": [
      "--- Done: 0/14 ---\n"
     ]
    },
    {
     "name": "stderr",
     "output_type": "stream",
     "text": [
      "Processing texts: 100%|██████████| 15000/15000 [39:36<00:00,  6.31text/s] \n"
     ]
    },
    {
     "name": "stdout",
     "output_type": "stream",
     "text": [
      "--- Done: 1/14 ---\n"
     ]
    },
    {
     "name": "stderr",
     "output_type": "stream",
     "text": [
      "Processing texts: 100%|██████████| 15000/15000 [15:11<00:00, 16.46text/s] \n"
     ]
    },
    {
     "name": "stdout",
     "output_type": "stream",
     "text": [
      "--- Done: 2/14 ---\n"
     ]
    },
    {
     "name": "stderr",
     "output_type": "stream",
     "text": [
      "Processing texts:  90%|█████████ | 13504/15000 [10:16<01:08, 21.90text/s] \n"
     ]
    },
    {
     "name": "stdout",
     "output_type": "stream",
     "text": [
      "--- Done: 3/14 ---\n"
     ]
    },
    {
     "name": "stderr",
     "output_type": "stream",
     "text": [
      "Processing texts: 100%|██████████| 5000/5000 [03:23<00:00, 24.62text/s]\n"
     ]
    },
    {
     "name": "stdout",
     "output_type": "stream",
     "text": [
      "--- Done: 4/14 ---\n"
     ]
    },
    {
     "name": "stderr",
     "output_type": "stream",
     "text": [
      "Processing texts: 100%|██████████| 5000/5000 [03:49<00:00, 21.78text/s]\n"
     ]
    },
    {
     "name": "stdout",
     "output_type": "stream",
     "text": [
      "--- Done: 5/14 ---\n"
     ]
    },
    {
     "name": "stderr",
     "output_type": "stream",
     "text": [
      "Processing texts: 100%|██████████| 5000/5000 [06:14<00:00, 13.36text/s]\n"
     ]
    },
    {
     "name": "stdout",
     "output_type": "stream",
     "text": [
      "--- Done: 6/14 ---\n"
     ]
    },
    {
     "name": "stderr",
     "output_type": "stream",
     "text": [
      "Processing texts: 100%|██████████| 5000/5000 [06:25<00:00, 12.97text/s]\n"
     ]
    },
    {
     "name": "stdout",
     "output_type": "stream",
     "text": [
      "--- Done: 7/14 ---\n"
     ]
    },
    {
     "name": "stderr",
     "output_type": "stream",
     "text": [
      "Processing texts: 100%|██████████| 5000/5000 [08:22<00:00,  9.95text/s]  \n"
     ]
    },
    {
     "name": "stdout",
     "output_type": "stream",
     "text": [
      "--- Done: 8/14 ---\n"
     ]
    },
    {
     "name": "stderr",
     "output_type": "stream",
     "text": [
      "Processing texts: 100%|██████████| 10000/10000 [14:39<00:00, 11.38text/s] \n"
     ]
    },
    {
     "name": "stdout",
     "output_type": "stream",
     "text": [
      "--- Done: 9/14 ---\n"
     ]
    },
    {
     "name": "stderr",
     "output_type": "stream",
     "text": [
      "Processing texts: 100%|██████████| 5000/5000 [05:49<00:00, 14.32text/s]\n"
     ]
    },
    {
     "name": "stdout",
     "output_type": "stream",
     "text": [
      "--- Done: 10/14 ---\n"
     ]
    },
    {
     "name": "stderr",
     "output_type": "stream",
     "text": [
      "Processing texts: 100%|██████████| 2000/2000 [02:25<00:00, 13.75text/s]\n"
     ]
    },
    {
     "name": "stdout",
     "output_type": "stream",
     "text": [
      "--- Done: 11/14 ---\n"
     ]
    },
    {
     "name": "stderr",
     "output_type": "stream",
     "text": [
      "Processing texts: 100%|██████████| 3000/3000 [03:56<00:00, 12.67text/s]\n"
     ]
    },
    {
     "name": "stdout",
     "output_type": "stream",
     "text": [
      "--- Done: 12/14 ---\n"
     ]
    },
    {
     "name": "stderr",
     "output_type": "stream",
     "text": [
      "Processing texts: 100%|██████████| 5000/5000 [07:23<00:00, 11.26text/s]  \n"
     ]
    },
    {
     "name": "stdout",
     "output_type": "stream",
     "text": [
      "--- Done: 13/14 ---\n"
     ]
    },
    {
     "name": "stderr",
     "output_type": "stream",
     "text": [
      "Processing texts: 100%|██████████| 5000/5000 [05:14<00:00, 15.89text/s]\n"
     ]
    },
    {
     "name": "stdout",
     "output_type": "stream",
     "text": [
      "DONE\n"
     ]
    }
   ],
   "source": [
    "for i, dataset in enumerate(datasets):\n",
    "    print(f\"--- Done: {i}/{len(datasets)} ---\")\n",
    "    dataset.process(deduplicate=True)\n",
    "print(\"DONE\")"
   ]
  },
  {
   "cell_type": "code",
   "execution_count": 19,
   "id": "b9c26b24",
   "metadata": {},
   "outputs": [
    {
     "name": "stderr",
     "output_type": "stream",
     "text": [
      "Processing texts: 100%|██████████| 1496/1496 [00:56<00:00, 26.69text/s]\n"
     ]
    },
    {
     "name": "stdout",
     "output_type": "stream",
     "text": [
      "100000\n"
     ]
    }
   ],
   "source": [
    "# Fill the missing examples in ds_flickr30k with second caption from the set\n",
    "to_fill = 15000 - len(datasets[2].features)\n",
    "if to_fill > 0:\n",
    "    ds_flickr30k_2 = Dataset(\n",
    "        \"flickr30k\",\n",
    "        ds_flickr30k,\n",
    "        skip=2 * 1500,\n",
    "        take=to_fill,\n",
    "        text_getter=lambda x: x[\"set\"][1],\n",
    "    )\n",
    "    ds_flickr30k_2.process(deduplicate=True)\n",
    "    datasets[2].texts.extend(ds_flickr30k_2.texts)\n",
    "    datasets[2].contexts.extend(ds_flickr30k_2.contexts)\n",
    "    datasets[2].features.extend(ds_flickr30k_2.features)\n",
    "\n",
    "print(sum(len(ds.features) for ds in datasets))"
   ]
  },
  {
   "cell_type": "code",
   "execution_count": 20,
   "id": "f891e618",
   "metadata": {},
   "outputs": [],
   "source": [
    "datasets[0].save_as_parquet(labels=np.ones(len(datasets[0].features), dtype=int) * 5)\n",
    "datasets[1].save_as_parquet(labels=np.ones(len(datasets[1].features), dtype=int) * 4)"
   ]
  },
  {
   "cell_type": "code",
   "execution_count": 21,
   "id": "887336c7",
   "metadata": {},
   "outputs": [
    {
     "name": "stdout",
     "output_type": "stream",
     "text": [
      "saving 2 flickr30k 15000\n",
      "saving 3 coco 5000\n",
      "saving 4 sbu 5000\n",
      "saving 5 movie_summaries 5000\n",
      "saving 6 book_summaries 5000\n",
      "saving 7 book_dialogs 5000\n",
      "saving 8 wiki 10000\n",
      "saving 9 news 5000\n",
      "saving 10 hotels 2000\n",
      "saving 11 yelp 3000\n",
      "saving 12 arxiv 5000\n",
      "saving 13 amazon_reviews 5000\n"
     ]
    }
   ],
   "source": [
    "import pickle\n",
    "\n",
    "paths = [(int(path.stem.split(\"_\")[-1]), path) for path in (DATA_DIR / \"models\").glob(\"ordinal_model_dataset_*.pkl\")]\n",
    "# Reorder paths by dataset index\n",
    "paths.sort(key=lambda p: p[0])\n",
    "\n",
    "for dataset_idx, path in paths:\n",
    "    with open(path, \"rb\") as f:\n",
    "        model = pickle.load(f)\n",
    "    X = np.array(datasets[dataset_idx].features)\n",
    "    preds = model.predict(X)\n",
    "    # Save\n",
    "    print(\"saving\", dataset_idx, datasets[dataset_idx].name, len(preds))\n",
    "    datasets[dataset_idx].save_as_parquet(labels=preds)"
   ]
  },
  {
   "cell_type": "code",
   "execution_count": null,
   "id": "57f5ad4e",
   "metadata": {},
   "outputs": [
    {
     "name": "stdout",
     "output_type": "stream",
     "text": [
      "Label distribution:\n",
      "label\n",
      "0    26440\n",
      "1    15495\n",
      "2     4428\n",
      "3    20695\n",
      "4    17942\n",
      "5    15000\n",
      "Name: count, dtype: int64\n"
     ]
    }
   ],
   "source": [
    "from utils import DATA_DIR\n",
    "\n",
    "# Combine the individual parquet files into a single one\n",
    "parquet_files = [(DATA_DIR / \"datasets\" / \"large\" / f\"{ds.name}.parquet\") for ds in datasets]\n",
    "dfs = []\n",
    "for p in parquet_files:\n",
    "    name = p.stem\n",
    "    df = pd.read_parquet(p)\n",
    "    df[\"dataset\"] = name\n",
    "    dfs.append(df)\n",
    "\n",
    "df_combined = pd.concat(dfs, ignore_index=True)\n",
    "df_combined.to_parquet(\n",
    "    DATA_DIR / \"datasets\" / \"large\" / \"combined.parquet\", index=False\n",
    ")\n",
    "\n",
    "print(\"Label distribution:\")\n",
    "print(df_combined[\"label\"].value_counts().sort_index())"
   ]
  },
  {
   "cell_type": "code",
   "execution_count": 2,
   "id": "5d833f5f",
   "metadata": {},
   "outputs": [],
   "source": [
    "import pandas as pd\n",
    "import sys\n",
    "from pathlib import Path\n",
    "sys.path.append(str(Path.cwd().parent))\n",
    "from utils import DATA_DIR\n",
    "\n",
    "df_combined = pd.read_parquet(\n",
    "    DATA_DIR / \"datasets\" / \"large\" / \"combined.parquet\"\n",
    ")"
   ]
  },
  {
   "cell_type": "code",
   "execution_count": 6,
   "id": "862e2762",
   "metadata": {},
   "outputs": [
    {
     "data": {
      "image/png": "[encoded data removed]",
      "text/plain": [
       "<Figure size 640x480 with 1 Axes>"
      ]
     },
     "metadata": {},
     "output_type": "display_data"
    }
   ],
   "source": [
    "import seaborn as sns\n",
    "import matplotlib.pyplot as plt\n",
    "\n",
    "# Plot label distribution\n",
    "ax = sns.countplot(x=\"label\", data=df_combined, stat=\"count\")\n",
    "ax.bar_label(ax.containers[0])\n",
    "plt.xlabel(\"Score\")\n",
    "plt.ylabel(\"Frequency\")\n",
    "plt.title(\"Score Distribution in Large Dataset\")\n",
    "plt.show()"
   ]
  }
 ],
 "metadata": {
  "kernelspec": {
   "display_name": ".venv",
   "language": "python",
   "name": "python3"
  },
  "language_info": {
   "codemirror_mode": {
    "name": "ipython",
    "version": 3
   },
   "file_extension": ".py",
   "mimetype": "text/x-python",
   "name": "python",
   "nbconvert_exporter": "python",
   "pygments_lexer": "ipython3",
   "version": "3.12.3"
  }
 },
 "nbformat": 4,
 "nbformat_minor": 5
}
