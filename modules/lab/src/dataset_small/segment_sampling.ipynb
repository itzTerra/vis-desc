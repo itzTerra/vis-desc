{
 "cells": [
  {
   "cell_type": "code",
   "execution_count": null,
   "id": "2d184e43",
   "metadata": {},
   "outputs": [],
   "source": []
  },
  {
   "cell_type": "markdown",
   "id": "330ec6f4",
   "metadata": {},
   "source": [
    "### 1. Preprocess and split all books into segments"
   ]
  },
  {
   "cell_type": "code",
   "execution_count": null,
   "id": "a7ba8d90",
   "metadata": {},
   "outputs": [],
   "source": [
    "%load_ext autoreload\n",
    "%autoreload 2\n",
    "import json\n",
    "import sys\n",
    "from pathlib import Path\n",
    "\n",
    "sys.path.append(str(Path.cwd().parent))\n",
    "from book_segmenting import TextSegmenter\n",
    "from book_preprocessing import TxtBookPreprocessor\n",
    "from utils import SEGMENT_DIR, BOOK_DIR\n",
    "\n",
    "SEGMENT_CHARS_MIN = 150\n",
    "SEGMENT_CHARS_MAX = 500\n",
    "\n",
    "preprocessor = TxtBookPreprocessor()\n",
    "segmenter = TextSegmenter(chunk_size=(SEGMENT_CHARS_MIN, SEGMENT_CHARS_MAX))\n",
    "\n",
    "for f in SEGMENT_DIR.glob(\"*.json\"):\n",
    "    f.unlink()\n",
    "for book in BOOK_DIR.glob(\"*.txt\"):\n",
    "    with open(book, \"r\", encoding=\"utf-8-sig\") as f:\n",
    "        book_content = f.read()\n",
    "    book_slug = book.stem\n",
    "    chunks = segmenter.segment_text(preprocessor.clean_text(book_content))\n",
    "    with open(SEGMENT_DIR / f\"{book_slug}.json\", \"w\", encoding=\"utf-8\") as f:\n",
    "        json.dump(chunks, f, indent=2)"
   ]
  },
  {
   "cell_type": "markdown",
   "id": "35a52c74",
   "metadata": {},
   "source": [
    "### 2. Sample N segments from all unused yet"
   ]
  },
  {
   "cell_type": "code",
   "execution_count": 6,
   "id": "84a7857c",
   "metadata": {},
   "outputs": [
    {
     "name": "stdout",
     "output_type": "stream",
     "text": [
      "The autoreload extension is already loaded. To reload it, use:\n",
      "  %reload_ext autoreload\n",
      "=== CORPUS STATUS ===\n",
      "Books: 298\n",
      "Total segments: 440847\n",
      "Used segments: 600\n",
      "Available: 440247\n",
      "\n",
      "By genre:\n",
      "  Fiction: 221467 (144 books)\n",
      "  Mystery: 88117 (62 books)\n",
      "  Fantasy: 51919 (42 books)\n",
      "  Science Fiction: 40740 (30 books)\n",
      "  Western: 35619 (17 books)\n",
      "  Travel: 2056 (2 books)\n",
      "  History: 929 (1 books)\n"
     ]
    }
   ],
   "source": [
    "%load_ext autoreload\n",
    "%autoreload 2\n",
    "import sys\n",
    "from pathlib import Path\n",
    "\n",
    "sys.path.append(str(Path.cwd().parent))\n",
    "from utils import SEGMENT_DIR, TO_ANNOTATE_DIR, BOOK_META_DIR\n",
    "from dataset_small.segment_sampling import SegmentSampler\n",
    "\n",
    "N = 600\n",
    "BATCH_NAME = \"batch_002\"\n",
    "MAX_PER_BOOK = 3\n",
    "SEED = 42\n",
    "\n",
    "sampler = SegmentSampler(SEGMENT_DIR, BOOK_META_DIR, TO_ANNOTATE_DIR, SEED)\n",
    "# sample = sampler.sample_balanced(N, BATCH_NAME, max_per_book=MAX_PER_BOOK)\n",
    "sampler.print_status()"
   ]
  }
 ],
 "metadata": {
  "kernelspec": {
   "display_name": "lab",
   "language": "python",
   "name": "python3"
  },
  "language_info": {
   "codemirror_mode": {
    "name": "ipython",
    "version": 3
   },
   "file_extension": ".py",
   "mimetype": "text/x-python",
   "name": "python",
   "nbconvert_exporter": "python",
   "pygments_lexer": "ipython3",
   "version": "3.12.3"
  }
 },
 "nbformat": 4,
 "nbformat_minor": 5
}
