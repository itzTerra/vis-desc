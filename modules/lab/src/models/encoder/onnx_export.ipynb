{
 "cells": [
  {
   "cell_type": "code",
   "execution_count": null,
   "id": "5c8c0953",
   "metadata": {},
   "outputs": [],
   "source": [
    "import pandas as pd\n",
    "import numpy as np\n",
    "from sklearn.ensemble import RandomForestRegressor\n",
    "from sklearn.pipeline import make_pipeline\n",
    "from sklearn.preprocessing import MinMaxScaler\n",
    "from skl2onnx import convert_sklearn\n",
    "from skl2onnx.common.data_types import FloatTensorType\n",
    "import onnxruntime as rt\n",
    "import sys\n",
    "from pathlib import Path\n",
    "\n",
    "sys.path.append(str(Path.cwd().parent.parent))\n",
    "from utils import DATA_DIR\n",
    "from models.encoder.common import SEED\n",
    "from text2features import FeatureService\n",
    "\n",
    "sm_train = pd.read_parquet(DATA_DIR / \"datasets\" / \"small\" / \"train.parquet\")\n",
    "sm_y = sm_train[\"label\"].values\n",
    "\n",
    "# lg_train = pd.read_parquet(DATA_DIR / \"datasets\" / \"large\" / \"combined.parquet\")\n",
    "\n",
    "\n",
    "def export_sklearn_to_onnx(model, model_name: str, X: np.ndarray, y: np.ndarray):\n",
    "    initial_type = [(\"float_input\", FloatTensorType([None, X.shape[1]]))]\n",
    "    onx = convert_sklearn(model, initial_types=initial_type)\n",
    "\n",
    "    onnx_path = DATA_DIR / \"models\" / f\"{model_name}.onnx\"\n",
    "    with open(onnx_path, \"wb\") as f:\n",
    "        f.write(onx.SerializeToString())\n",
    "\n",
    "    print(f\"ONNX model saved to: {onnx_path}\")\n",
    "\n",
    "    sess = rt.InferenceSession(str(onnx_path))\n",
    "    input_name = sess.get_inputs()[0].name\n",
    "    label_name = sess.get_outputs()[0].name\n",
    "\n",
    "    sample_X = X.astype(np.float32)\n",
    "\n",
    "    pred_onx = sess.run([label_name], {input_name: sample_X})[0]\n",
    "    pred_sklearn = model.predict(sample_X)\n",
    "\n",
    "    diff = np.abs(pred_sklearn - pred_onx.flatten())\n",
    "    if not np.all(diff < 1e-5):\n",
    "        print(\"Warning: Insufficient accuracy between sklearn and ONNX predictions.\")\n",
    "        print(f\"Max difference: {np.max(diff)}\")"
   ]
  },
  {
   "cell_type": "code",
   "execution_count": null,
   "id": "2bf11ca0",
   "metadata": {},
   "outputs": [
    {
     "name": "stderr",
     "output_type": "stream",
     "text": [
      "Fetching 7 files: 100%|██████████| 7/7 [00:00<00:00, 32988.91it/s]\n"
     ]
    }
   ],
   "source": [
    "from text2features_paths import (\n",
    "    FEATURE_PIPELINE_RESOURCES,\n",
    ")\n",
    "\n",
    "feature_service = FeatureService(\n",
    "    feature_pipeline_resources=FEATURE_PIPELINE_RESOURCES,\n",
    ")\n",
    "\n",
    "sm_X_minilm = feature_service.get_features(\n",
    "    sm_train[\"text\"].tolist(), \"sentence-transformers/all-MiniLM-L6-v2\"\n",
    ")"
   ]
  },
  {
   "cell_type": "code",
   "execution_count": null,
   "id": "e80698e4",
   "metadata": {},
   "outputs": [
    {
     "ename": "NameError",
     "evalue": "name 'export_sklearn_to_onnx' is not defined",
     "output_type": "error",
     "traceback": [
      "\u001b[31m---------------------------------------------------------------------------\u001b[39m",
      "\u001b[31mNameError\u001b[39m                                 Traceback (most recent call last)",
      "\u001b[36mCell\u001b[39m\u001b[36m \u001b[39m\u001b[32mIn[5]\u001b[39m\u001b[32m, line 14\u001b[39m\n\u001b[32m     12\u001b[39m rf_model = RandomForestRegressor(**params, random_state=SEED, n_jobs=-\u001b[32m1\u001b[39m)\n\u001b[32m     13\u001b[39m rf_model.fit(X, y)\n\u001b[32m---> \u001b[39m\u001b[32m14\u001b[39m \u001b[43mexport_sklearn_to_onnx\u001b[49m(rf_model, \u001b[33m\"\u001b[39m\u001b[33mminilm_randomforest\u001b[39m\u001b[33m\"\u001b[39m, X, y)\n",
      "\u001b[31mNameError\u001b[39m: name 'export_sklearn_to_onnx' is not defined"
     ]
    }
   ],
   "source": [
    "params = {\n",
    "    \"n_estimators\": 129,\n",
    "    \"max_depth\": 28,\n",
    "    \"min_samples_split\": 4,\n",
    "    \"min_samples_leaf\": 3,\n",
    "    \"max_features\": \"sqrt\",\n",
    "    \"bootstrap\": False,\n",
    "}\n",
    "rf_model = RandomForestRegressor(**params, random_state=SEED, n_jobs=-1)\n",
    "rf_model.fit(sm_X_minilm, sm_y)\n",
    "export_sklearn_to_onnx(rf_model, \"minilm_randomforest\", sm_X_minilm, sm_y)"
   ]
  },
  {
   "cell_type": "code",
   "execution_count": 4,
   "id": "02316f51",
   "metadata": {},
   "outputs": [
    {
     "name": "stdout",
     "output_type": "stream",
     "text": [
      "ONNX model saved to: /home/terra/Projects/vis-desc/modules/lab/data/models/minilm_svm.onnx\n",
      "Warning: Insufficient accuracy between sklearn and ONNX predictions.\n",
      "Max difference: 1.424463998622727e-05\n"
     ]
    }
   ],
   "source": [
    "from sklearn.svm import SVR\n",
    "\n",
    "svm_params = {\n",
    "    \"kernel\": \"rbf\",\n",
    "    \"C\": 1.9608689708007712,\n",
    "    \"epsilon\": 0.0009522163932366842,\n",
    "}\n",
    "svm_pipeline = make_pipeline(MinMaxScaler(), SVR(**svm_params))\n",
    "svm_pipeline.fit(sm_X_minilm, sm_y)\n",
    "export_sklearn_to_onnx(svm_pipeline, \"minilm_svm\", sm_X_minilm, sm_y)"
   ]
  },
  {
   "cell_type": "code",
   "execution_count": null,
   "id": "ad43a57d",
   "metadata": {},
   "outputs": [],
   "source": [
    "from models.encoder.common import CachedOptimizationContext\n",
    "from models.encoder.modernbert_finetune_nn import export_to_onnx, train_final_model\n",
    "\n",
    "optimization_context = CachedOptimizationContext()\n",
    "best_params = {}  # TODO\n",
    "final_model = train_final_model(\n",
    "    best_params, optimization_context.tokenizer, optimization_context.sm_train\n",
    ")\n",
    "\n",
    "onnx_path = \"modernbert_finetune_nn.onnx\"\n",
    "export_to_onnx(final_model, onnx_path)"
   ]
  }
 ],
 "metadata": {
  "kernelspec": {
   "display_name": ".venv",
   "language": "python",
   "name": "python3"
  },
  "language_info": {
   "codemirror_mode": {
    "name": "ipython",
    "version": 3
   },
   "file_extension": ".py",
   "mimetype": "text/x-python",
   "name": "python",
   "nbconvert_exporter": "python",
   "pygments_lexer": "ipython3",
   "version": "3.12.3"
  }
 },
 "nbformat": 4,
 "nbformat_minor": 5
}
